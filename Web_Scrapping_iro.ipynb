{
  "nbformat": 4,
  "nbformat_minor": 0,
  "metadata": {
    "colab": {
      "provenance": [],
      "toc_visible": true,
      "authorship_tag": "ABX9TyPFoiRg+FgzE/ZjJsqjGcEx",
      "include_colab_link": true
    },
    "kernelspec": {
      "name": "python3",
      "display_name": "Python 3"
    },
    "language_info": {
      "name": "python"
    }
  },
  "cells": [
    {
      "cell_type": "markdown",
      "metadata": {
        "id": "view-in-github",
        "colab_type": "text"
      },
      "source": [
        "<a href=\"https://colab.research.google.com/github/poet-developer/2024WebScrapping/blob/main/Web_Scrapping_iro.ipynb\" target=\"_parent\"><img src=\"https://colab.research.google.com/assets/colab-badge.svg\" alt=\"Open In Colab\"/></a>"
      ]
    },
    {
      "cell_type": "code",
      "execution_count": null,
      "metadata": {
        "id": "mQFEPezJUz-W"
      },
      "outputs": [],
      "source": [
        "# 웹 스크래핑 연습 by 임이로 2024 05 22"
      ]
    },
    {
      "cell_type": "code",
      "source": [
        "# library\n",
        "\n",
        "import bs4 # https://www.crummy.com/software/BeautifulSoup/\n",
        "import pandas as pd # https://pandas.pydata.org/\n",
        "import pickle #https://docs.python.org/ko/3/library/pickle.html\n",
        "import os # https://docs.python.org/ko/3/library/os.html\n",
        "import numpy as np # https://numpy.org/"
      ],
      "metadata": {
        "id": "OKNQy1knU35X"
      },
      "execution_count": null,
      "outputs": []
    },
    {
      "cell_type": "markdown",
      "source": [
        "# 라이브러리"
      ],
      "metadata": {
        "id": "rluGfh2QVD_Q"
      }
    },
    {
      "cell_type": "markdown",
      "source": [
        "1.bs4: 대표적인 스크래핑 도구<br>\n",
        "2.pandas : 데이터프레임 만드는 도구 (csv 관련)<br>\n",
        "3.pickle : 텍스트 상태의 데이터가 아닌 파이썬 객체 자체를 바이너리 파일로 저장하는 것을 의미합니다. 텍스트 형태로 파일을 저장하는 것이 아니라, Dictionary, list, tuple과 같은 형태로 필요한 부분을 저장하는 것이다.<br>\n",
        "4.os : 운영체제와 상호작용하는 도구 (파일 및 디렉토리 CRUD, 파일시스템 속성 조회 및 수정, 환경변수 관리, 시스템 명령어 실행)<br>\n",
        "5.numpy: 과학 계산 도구, 행렬/배열 처리 및 연산 / 난수 생성\n"
      ],
      "metadata": {
        "id": "-v9byBQXU9Ac"
      }
    },
    {
      "cell_type": "code",
      "source": [
        "# 버전 확인\n",
        "\n",
        "!python --version # python 버전 확인 / 3.10.12\n",
        "print('Pandas Version :', pd.__version__) # Pandas 버전 확인 / 2.0.3\n",
        "print(\"BeautifulSoup version :\", bs4.__version__) # BeautifulSoup 버전 확인 / 4.12.3"
      ],
      "metadata": {
        "id": "GxSYWJr4U9JV"
      },
      "execution_count": null,
      "outputs": []
    }
  ]
}